{
 "cells": [
  {
   "cell_type": "markdown",
   "metadata": {},
   "source": [
    "# F Strings - Formating Python output\n",
    "\n",
    "It is often desirable to control the way in which the print() function displays output. For example we might wish to display a floating point number to a ceratin number of decimal places, or significant figures. If we are printing a table, we might need to make sure that a word or number always takes up the same number of places.\n",
    "\n",
    "There are a number of ways this can be done (.format(), string class formating etc.) but here we will look exclusivly at 'Formatted String Literals' more commonly refered to as 'F strings'. This was introduced in Python 3.6 and provides a faster and neater way than all the previous systems. The official documentation anouncing this change can be found in the Python 3.6 'whatsnew' pages: https://docs.python.org/3/whatsnew/3.6.html#whatsnew36-pep498 and the links therein. Once you've got to grips with the basics you might find the 'Format Specification Mini-Language' information (https://docs.python.org/3/library/string.html#formatspec) useful.\n",
    "\n",
    "In the simplest form, you print a string, preceded with an 'f' and  with embedded placeholders for formatted output delineated with curly braces. Something like:\n",
    "\n",
    "`print(f'Hello {first_name}, I understand your family name is {fam_name}')`\n",
    "\n",
    "The 'magic' comes with the additional formatting codes we can use within the braces.\n",
    "\n",
    "As usual, we'll use a number of examples to demonstrate useful functionality and provide exercises for you to try as we go along.\n",
    "\n",
    "F strings work just fine with plain Python, but we'll import numPy here as we can use some of it's functions in the demonstrations.\n",
    "\n"
   ]
  },
  {
   "cell_type": "code",
   "execution_count": null,
   "metadata": {},
   "outputs": [],
   "source": [
    "import numpy as np"
   ]
  },
  {
   "cell_type": "markdown",
   "metadata": {},
   "source": [
    "## 1. Simple string formating\n",
    "\n",
    "Starting with simple string formatting, we can tell Python how many 'spaces' a given item of output should take up. For example, assuming we want a first name to take 10 characters and a last name to take 15 character.\n",
    "\n",
    "We do this by specifying (with curly braces) where the output is to appear in the string and then specifying some formatting instruction by using a colon after the variable or output followed by a 'width' specifier. This is perhaps easier to see by example:\n"
   ]
  },
  {
   "cell_type": "code",
   "execution_count": null,
   "metadata": {},
   "outputs": [],
   "source": [
    "first_name = 'Zaphod'\n",
    "last_name = 'Beeblebrox'\n",
    "\n",
    "print(f'Panic - {first_name:10} {last_name:15}!')"
   ]
  },
  {
   "cell_type": "markdown",
   "metadata": {},
   "source": [
    "\n",
    "We can extend the formatting instruction in this case by adding a '<' to indicate that thenoutput should be left justified, '>' that it should be right justified and '^' that it should be centred.\n",
    "\n",
    "Let's right justify the names:\n"
   ]
  },
  {
   "cell_type": "code",
   "execution_count": null,
   "metadata": {},
   "outputs": [],
   "source": [
    "print(f'Panic - {first_name:>10} {last_name:>15}!')"
   ]
  },
  {
   "cell_type": "markdown",
   "metadata": {},
   "source": [
    "\n",
    "Or how about making both names center justified?\n"
   ]
  },
  {
   "cell_type": "code",
   "execution_count": null,
   "metadata": {},
   "outputs": [],
   "source": [
    "print(f'Panic - {first_name:^10} {last_name:^15}!')"
   ]
  },
  {
   "cell_type": "markdown",
   "metadata": {},
   "source": [
    "The key points to note here are that \n",
    "\n",
    "1. The thing to print is embeded in the main print string contained within curly braces. This 'thing' might be a variable, an expression or result of a function call.\n",
    "2. The format is specified after a ':'. Here it is a charscter specifying justification (have a go with '<', '>', and '^') followed by a length value.\n",
    "\n",
    "You might find this useful in formatting tables as we can see here:\n",
    "\n",
    "NOTE: you may not have come across the 'zip()' function - in this case it just allows us to itereate through2 list at the same time.\n"
   ]
  },
  {
   "cell_type": "code",
   "execution_count": null,
   "metadata": {},
   "outputs": [],
   "source": [
    "fname = ['zaphod', 'joe', 'mary']\n",
    "lname = ['beeblebrox', 'bloggs', 'slartibartfast']\n",
    "\n",
    "for f,l in zip(fname, lname):\n",
    "    print(f'|{f:>10}|{l:>15}|')"
   ]
  },
  {
   "cell_type": "markdown",
   "metadata": {},
   "source": [
    "### Exercise 1.1\n",
    "\n",
    "Using these lists, How would you produce a list like you see in film credits where we have a right justified forename followed by a space followed by a left justified last name? Use the names given above."
   ]
  },
  {
   "cell_type": "markdown",
   "metadata": {},
   "source": [
    "### 1.1 printing 'special' characters\n",
    "\n",
    "You need to be careful if your formatted string contains characters with special meanings.\n",
    "\n",
    "Some examples:"
   ]
  },
  {
   "cell_type": "code",
   "execution_count": null,
   "metadata": {},
   "outputs": [],
   "source": [
    "# \"'\" - use  a '\"'\"'\n",
    "print(f\"Don't panic {'John'}\")\n",
    "\n",
    "# Curly braces\n",
    "print(f'These are curly braces {{}}')     "
   ]
  },
  {
   "cell_type": "markdown",
   "metadata": {},
   "source": [
    "### 1.2 Formatting 'date' output\n",
    "\n",
    "You can use  F strings to output 'dates' held in Pythons internal format in a number of useful ways:"
   ]
  },
  {
   "cell_type": "code",
   "execution_count": null,
   "metadata": {},
   "outputs": [],
   "source": [
    "import datetime as dt\n",
    "today = dt.datetime.today()\n",
    "\n",
    "print(today)\n",
    "print(f'{today:%d/%m/%Y}')\n",
    "print(f'Today is {today:%A, %B %d, %Y}')"
   ]
  },
  {
   "cell_type": "markdown",
   "metadata": {},
   "source": [
    "## 2. Aligning numeric output using 'width' and 'precision'\n",
    "\n",
    "You can extend this sort of formatting to numerical results. here we look at formatting using a 'width' and a 'precision' parameter. 'width' is the total number of characters to print (including the decimal and left padded with spaces) and the 'precision' is, effectively, the number of significant figures.\n",
    "\n",
    "By example:\n"
   ]
  },
  {
   "cell_type": "code",
   "execution_count": null,
   "metadata": {},
   "outputs": [],
   "source": [
    "n = 12.3456789\n",
    "print(f'{n} printed with a field length of 10 and a precision of 4 is |{n:10.4}|')\n",
    "\n",
    "# And we can add padding characters\n",
    "print(f'{n} printed with \"zero\" padding |{n:010.4}|')\n"
   ]
  },
  {
   "cell_type": "markdown",
   "metadata": {},
   "source": [
    "\n",
    "## 3. Formatting integers - and introducing numeric 'type' specifiers\n",
    "\n",
    "You can, additionally, indicate what numeric 'type' you want - binary, hex etc.\n",
    "\n",
    "By example:\n"
   ]
  },
  {
   "cell_type": "code",
   "execution_count": null,
   "metadata": {},
   "outputs": [],
   "source": [
    "n1 = 3423\n",
    "\n",
    "print (f'{n1} in binary is: {n1:b}')\n",
    "print (f'{n1} in octal is: {n1:o}')\n",
    "print (f'{n1} in hex is: {n1:x}')\n",
    "print (f'{n1} in hex, with visible identifier, is: {n1:#x}')\n",
    "\n",
    "print (f'{n1} with commas: {n1:,}')\n",
    "print (f'{n1} with fixed width and zero padding: {n1:010}')\n",
    "print (f'{n1} in hex, with identifier, fixed width and padding is: {n1:#08x}')\n"
   ]
  },
  {
   "cell_type": "markdown",
   "metadata": {},
   "source": [
    "### Exercise 3.1\n",
    "\n",
    "Print out the first 20 prime numbers, formatted to a width of 5 characters\n"
   ]
  },
  {
   "cell_type": "markdown",
   "metadata": {},
   "source": [
    "## 4. Formatting floating point numbers\n",
    "\n",
    "We can extend the 'width'.'precision' formatting of floating point numbers with specific floating point presentation specifiers 'f' 'e' and 'g'.\n",
    "\n",
    "* **'f'** is the normal 'fixed' point presentation. It has a default precision of 6\n",
    "* **'e'** gives a scientific notration - once again with a default precision of 6\n",
    "* **'g'** is the 'general' format that for precision >= 1, rounds the number to the specified number of significant digits. Be aware that it may present the result as in scientific format\n",
    "\n",
    "By example:\n"
   ]
  },
  {
   "cell_type": "code",
   "execution_count": null,
   "metadata": {},
   "outputs": [],
   "source": [
    "f1 = 1234.56789\n",
    "\n",
    "# Changing presentation format\n",
    "print (f'{f1} as a floating point: {f1:f}')\n",
    "print (f'{f1} in scientific notation: {f1:e}')\n",
    "# Adding precision parameters\n",
    "print (f'{f1} as a floating point to 3 d.p. : {f1:.3f}')\n",
    "print (f'{f1} in scientific notation with precision of 2: {f1:.2e}')\n",
    "print (f'{f1} as a floating point to 5 significant figures. : {f1:.5g}')\n",
    "\n"
   ]
  },
  {
   "cell_type": "markdown",
   "metadata": {},
   "source": [
    "\n",
    "You can of course also use width with precision and presentation specifiers - quite good for tables where the decimal point should be aligned:\n",
    "    "
   ]
  },
  {
   "cell_type": "code",
   "execution_count": null,
   "metadata": {},
   "outputs": [],
   "source": [
    "numbs = [0.2366, 12.5, 1000., 1.2]\n",
    "for x in numbs:\n",
    "    print(f'|{x:10.2f}|')"
   ]
  },
  {
   "cell_type": "markdown",
   "metadata": {},
   "source": [
    "### Exercise 4.1\n",
    "\n",
    "Loop through values of 'i' from 0 to 9. Print out the value of $\\pi \\times i^2$, all formatted to 5 decimal places and with the decimal points aligned. "
   ]
  },
  {
   "cell_type": "markdown",
   "metadata": {},
   "source": [
    "# Basic solutions to exercises"
   ]
  },
  {
   "cell_type": "markdown",
   "metadata": {},
   "source": [
    "### Exercise 1.1"
   ]
  },
  {
   "cell_type": "code",
   "execution_count": null,
   "metadata": {},
   "outputs": [],
   "source": [
    "fname = ['zaphod', 'joe', 'mary']\n",
    "lname = ['Beeblebrox', 'bloggs', 'slartibartfast']\n",
    "\n",
    "for f,l in zip(fname, lname):\n",
    "    print(f'{f:>10} {l:<15}')"
   ]
  },
  {
   "cell_type": "markdown",
   "metadata": {},
   "source": [
    "### Exercise 3.1"
   ]
  },
  {
   "cell_type": "code",
   "execution_count": null,
   "metadata": {},
   "outputs": [],
   "source": [
    "for n in range(20):\n",
    "    print(f'{n:05b}')"
   ]
  },
  {
   "cell_type": "markdown",
   "metadata": {},
   "source": [
    "### Exercise 4.1"
   ]
  },
  {
   "cell_type": "code",
   "execution_count": null,
   "metadata": {},
   "outputs": [],
   "source": [
    "for i in range(10):\n",
    "    print(f'{i*i*np.pi:10.5f}')"
   ]
  },
  {
   "cell_type": "code",
   "execution_count": null,
   "metadata": {},
   "outputs": [],
   "source": []
  }
 ],
 "metadata": {
  "kernelspec": {
   "display_name": "Python 3",
   "language": "python",
   "name": "python3"
  },
  "language_info": {
   "codemirror_mode": {
    "name": "ipython",
    "version": 3
   },
   "file_extension": ".py",
   "mimetype": "text/x-python",
   "name": "python",
   "nbconvert_exporter": "python",
   "pygments_lexer": "ipython3",
   "version": "3.7.3"
  }
 },
 "nbformat": 4,
 "nbformat_minor": 2
}
